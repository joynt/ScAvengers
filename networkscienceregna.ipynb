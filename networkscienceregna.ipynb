{
 "cells": [
  {
   "cell_type": "code",
   "execution_count": 1,
   "metadata": {},
   "outputs": [],
   "source": [
    "import numpy as np\n",
    "import matplotlib.pyplot as plt\n",
    "from tqdm import tqdm\n",
    "from scipy.signal import correlate"
   ]
  },
  {
   "cell_type": "code",
   "execution_count": 2,
   "metadata": {},
   "outputs": [],
   "source": [
    "data = np.load('eNodeB_a.npy')"
   ]
  },
  {
   "cell_type": "code",
   "execution_count": 3,
   "metadata": {},
   "outputs": [],
   "source": [
    "minimum = 500\n",
    "data = np.array([user for user in data if user.shape[0] > minimum])\n",
    "mcs = []\n",
    "\n",
    "for user in data:\n",
    "    mcs.append(user[:,4])\n",
    "    \n",
    "mcs = np.array(mcs)\n",
    "\n",
    "minimum = 0\n",
    "maximum = 31\n",
    "\n",
    "#mcs = list((mcs-minimum)/(maximum-minimum))\n",
    "for i in range(len(mcs)):\n",
    "    mcs[i] = mcs[i]-mcs[i].mean()"
   ]
  },
  {
   "cell_type": "code",
   "execution_count": null,
   "metadata": {},
   "outputs": [
    {
     "name": "stderr",
     "output_type": "stream",
     "text": [
      "  1%|▉                                                                               | 17/1463 [00:07<08:57,  2.69it/s]"
     ]
    }
   ],
   "source": [
    "def compute_distance(s1, s2, norm='l2'):\n",
    "    \n",
    "    distance = None\n",
    "    \n",
    "    if norm == 'l1':\n",
    "        # MAE criterion\n",
    "        distance = np.mean(np.abs(s1-s2))\n",
    "    elif norm == 'l2':\n",
    "        # MSE criterion\n",
    "        distance = np.mean(np.power((s1-s2),2))\n",
    "    \n",
    "    return distance\n",
    "\n",
    "\n",
    "dist = np.zeros((len(mcs),len(mcs)))\n",
    "\n",
    "for i in tqdm(range(len(mcs)-1)):\n",
    "    for j in range(i+1,len(mcs)):\n",
    "        s1 = mcs[i]\n",
    "        s2 = mcs[j]\n",
    "        ccorr = correlate(s1,s2,'valid')\n",
    "        index = ccorr.argmax()\n",
    "        if len(s1) > len(s2):\n",
    "            s1 = s1[index:index+len(s2)]\n",
    "        else:\n",
    "            s2 = s2[index:index+len(s1)]    \n",
    "        dist[i,j] = compute_distance(s1,s2,'l1')\n",
    "        \n",
    "i_lower = np.tril_indices(dist.shape[0], -1)\n",
    "dist[i_lower] = dist.T[i_lower]"
   ]
  },
  {
   "cell_type": "code",
   "execution_count": null,
   "metadata": {},
   "outputs": [],
   "source": [
    "plt.imshow(dist)"
   ]
  },
  {
   "cell_type": "code",
   "execution_count": null,
   "metadata": {},
   "outputs": [],
   "source": [
    "dist_n = (dist-dist.min())/(dist.max()-dist.min())\n",
    "binary = dist_n < 0.35\n",
    "plt.imshow(binary)\n",
    "# se vuoi dare un'occhiata anche a questo...\n",
    "import networkx as nx\n",
    "from networkx.algorithms.community import greedy_modularity_communities\n",
    "from networkx.algorithms.community import asyn_fluidc\n",
    "G = nx.from_numpy_array(binary)\n",
    "giant = max(nx.connected_component_subgraphs(G), key=len)\n",
    "communities1 = greedy_modularity_communities(giant)\n",
    "communities2 = asyn_fluidc(giant,4)\n",
    "for elem in communities1:\n",
    "    print(len(elem))\n",
    "for elem in communities2:\n",
    "    print(len(elem))"
   ]
  },
  {
   "cell_type": "code",
   "execution_count": null,
   "metadata": {},
   "outputs": [],
   "source": [
    "from sklearn.cluster import SpectralClustering\n",
    "\n",
    "# creation of similarity matrix\n",
    "# stai attento a questo parametro. se cala viene un unico cluster, se aumenta troppo anche\n",
    "delta = 7\n",
    "adj = np.exp(- dist ** 2 / (2. * delta ** 2))\n",
    "# clustering\n",
    "spectral = SpectralClustering(3,affinity='precomputed')\n",
    "labels = spectral.fit_predict(adj)\n",
    "plt.imshow(adj)"
   ]
  },
  {
   "cell_type": "code",
   "execution_count": null,
   "metadata": {},
   "outputs": [],
   "source": [
    "c1 = data[labels==0]\n",
    "c2 = data[labels==1]\n",
    "c3 = data[labels==2]\n",
    "\n",
    "\n",
    "a = np.random.randint(len(c1))\n",
    "b = np.random.randint(len(c2))\n",
    "c = np.random.randint(len(c3))\n",
    "\n",
    "\n",
    "plt.figure()\n",
    "plt.plot(c1[a][:,4])\n",
    "\n",
    "plt.figure()\n",
    "plt.plot(c2[b][:,4])\n",
    "\n",
    "plt.figure()\n",
    "plt.plot(c3[c][:,4])\n",
    "\n",
    "print(len(c1), len(c2), len(c3))"
   ]
  }
 ],
 "metadata": {
  "kernelspec": {
   "display_name": "Python 3",
   "language": "python",
   "name": "python3"
  },
  "language_info": {
   "codemirror_mode": {
    "name": "ipython",
    "version": 3
   },
   "file_extension": ".py",
   "mimetype": "text/x-python",
   "name": "python",
   "nbconvert_exporter": "python",
   "pygments_lexer": "ipython3",
   "version": "3.7.3"
  }
 },
 "nbformat": 4,
 "nbformat_minor": 2
}
